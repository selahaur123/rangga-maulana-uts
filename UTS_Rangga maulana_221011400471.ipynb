{
 "cells": [
  {
   "cell_type": "code",
   "execution_count": 1,
   "id": "7768e1cc-4add-4a3f-b73a-c3684d2557c2",
   "metadata": {},
   "outputs": [],
   "source": [
    "# Data\n",
    "company_detail_list = [\n",
    "    {\n",
    "        'name': 'Company 1',\n",
    "        'domain': 'Retail',\n",
    "        'country': 'United States'\n",
    "    },\n",
    "    {\n",
    "        'name': 'Company 2',\n",
    "        'domain': 'Technology',\n",
    "        'country': 'United Kingdom'\n",
    "    },\n",
    "    {\n",
    "        'name': 'Company 3',\n",
    "        'domain': 'Healthcare',\n",
    "        'country': 'United States'\n",
    "    }\n",
    "]\n",
    "\n",
    "employee_detail_list = [\n",
    "    {\n",
    "        'name': 'EMP-0001',\n",
    "        'first_name': 'John',\n",
    "        'last_name': 'Doe',\n",
    "        'full_name': 'John Doe',\n",
    "        'company': 'Company 1',\n",
    "        'nationality': 'Australia'\n",
    "    },\n",
    "    {\n",
    "        'name': 'EMP-0002',\n",
    "        'first_name': 'Tom',\n",
    "        'last_name': 'Smith',\n",
    "        'full_name': 'Tom Smith',\n",
    "        'company': 'Company 2',\n",
    "        'nationality': 'United States'\n",
    "    },\n",
    "    {\n",
    "        'name': 'EMP-0003',\n",
    "        'first_name': 'Andrew',\n",
    "        'last_name': 'Sebastian',\n",
    "        'full_name': 'Andrew Sebastian',\n",
    "        'company': 'Company 3',\n",
    "        'nationality': 'United States'\n",
    "    },\n",
    "    {\n",
    "        'name': 'EMP-0005',\n",
    "        'first_name': 'Ying Han',\n",
    "        'last_name': 'Tan',\n",
    "        'full_name': 'Ying Han Tan',\n",
    "        'company': 'Company 1',\n",
    "        'nationality': 'Australia'\n",
    "    },\n",
    "    {\n",
    "        'name': 'EMP-0015',\n",
    "        'first_name': 'Kenneth',\n",
    "        'last_name': 'Ng',\n",
    "        'full_name': 'Kenneth Ng',\n",
    "        'company': 'Company 3',\n",
    "        'nationality': 'United States'\n",
    "    },\n",
    "    {\n",
    "        'name': 'EMP-0018',\n",
    "        'first_name': 'Rubby',\n",
    "        'last_name': 'Lee',\n",
    "        'full_name': 'Rubby Lee',\n",
    "        'company': 'Company 2',\n",
    "        'nationality': 'Hong Kong'\n",
    "    },\n",
    "    {\n",
    "        'name': 'EMP-0017',\n",
    "        'first_name': 'Robert',\n",
    "        'last_name': 'White',\n",
    "        'full_name': 'Robert White',\n",
    "        'company': 'Company 1',\n",
    "        'nationality': 'United Kingdom'\n",
    "    }\n",
    "]"
   ]
  },
  {
   "cell_type": "code",
   "execution_count": 2,
   "id": "c08084d6-5d3e-416d-b30c-bd017a1f3463",
   "metadata": {},
   "outputs": [
    {
     "name": "stdout",
     "output_type": "stream",
     "text": [
      "[{'name': 'Company 3'}, {'name': 'Company 2'}, {'name': 'Company 1'}]\n"
     ]
    }
   ],
   "source": [
    "# Task 1: Mengambil daftar semua perusahaan dan mengurutkannya berdasarkan nama perusahaan secara terbalik\n",
    "def task_1(companies):\n",
    "    sorted_companies = sorted(companies, key=lambda x: x['name'], reverse=True)\n",
    "    return [{'name': company['name']} for company in sorted_companies]\n",
    "\n",
    "print(task_1(company_detail_list))"
   ]
  },
  {
   "cell_type": "code",
   "execution_count": 3,
   "id": "6b0580b5-56ab-4c45-9067-c59346eb73d2",
   "metadata": {},
   "outputs": [
    {
     "name": "stdout",
     "output_type": "stream",
     "text": [
      "Company 1: Retail (United States)\n",
      "Company 2: Technology (United Kingdom)\n",
      "Company 3: Healthcare (United States)\n"
     ]
    }
   ],
   "source": [
    "# Task 2: Mencetak semua nilai domain dari setiap perusahaan\n",
    "def task_2(companies):\n",
    "    for company in companies:\n",
    "        print(f\"{company['name']}: {company['domain']} ({company['country']})\")\n",
    "\n",
    "task_2(company_detail_list)"
   ]
  },
  {
   "cell_type": "code",
   "execution_count": 4,
   "id": "2300579c-7736-4f4e-bd46-05cd1dd730b5",
   "metadata": {},
   "outputs": [
    {
     "name": "stdout",
     "output_type": "stream",
     "text": [
      "{'Retail': ['John Doe', 'Ying Han Tan', 'Robert White'], 'Technology': ['Tom Smith', 'Rubby Lee'], 'Healthcare': ['Andrew Sebastian', 'Kenneth Ng']}\n"
     ]
    }
   ],
   "source": [
    "# Task 3: Mengelompokkan semua karyawan berdasarkan domain perusahaan\n",
    "def task_3(employees, companies):\n",
    "    domain_employees = {}\n",
    "    for company in companies:\n",
    "        domain_employees[company['domain']] = []  # Inisialisasi daftar untuk setiap domain\n",
    "    for employee in employees:\n",
    "        for company in companies:\n",
    "            if employee['company'] == company['name']:\n",
    "                domain_employees[company['domain']].append(employee['full_name'])  # Tambahkan nama karyawan\n",
    "    return domain_employees\n",
    "\n",
    "print(task_3(employee_detail_list, company_detail_list))"
   ]
  },
  {
   "cell_type": "code",
   "execution_count": 5,
   "id": "c5c4d5d7-4326-4eee-869d-dbdf5a539ef9",
   "metadata": {},
   "outputs": [
    {
     "name": "stdout",
     "output_type": "stream",
     "text": [
      "[{'full_name': 'John Doe', 'company': 'Company 1', 'country': 'United States'}, {'full_name': 'Tom Smith', 'company': 'Company 2', 'country': 'United Kingdom'}, {'full_name': 'Andrew Sebastian', 'company': 'Company 3', 'country': 'United States'}, {'full_name': 'Ying Han Tan', 'company': 'Company 1', 'country': 'United States'}, {'full_name': 'Kenneth Ng', 'company': 'Company 3', 'country': 'United States'}, {'full_name': 'Rubby Lee', 'company': 'Company 2', 'country': 'United Kingdom'}, {'full_name': 'Robert White', 'company': 'Company 1', 'country': 'United States'}]\n"
     ]
    }
   ],
   "source": [
    "# Task 4: Membuat fungsi yang mengembalikan karyawan beserta negara perusahaan mereka\n",
    "def task_4(employees, companies):\n",
    "    result = []\n",
    "    company_country_map = {company['name']: company['country'] for company in companies}  # Peta perusahaan ke negara\n",
    "    for employee in employees:\n",
    "        result.append({\n",
    "            \"full_name\": employee['full_name'],\n",
    "            \"company\": employee['company'],\n",
    "            \"country\": company_country_map[employee['company']]  # Ambil negara berdasarkan perusahaan\n",
    "        })\n",
    "    return result\n",
    "\n",
    "print(task_4(employee_detail_list, company_detail_list))"
   ]
  },
  {
   "cell_type": "code",
   "execution_count": 6,
   "id": "7600ae0f-b8cf-4b23-a13d-d7a8ad087535",
   "metadata": {},
   "outputs": [
    {
     "name": "stdout",
     "output_type": "stream",
     "text": [
      "[{'company': 'Company 1', 'employee_nationality': {'Australia': 2, 'United Kingdom': 1}}, {'company': 'Company 2', 'employee_nationality': {'United States': 1, 'Hong Kong': 1}}, {'company': 'Company 3', 'employee_nationality': {'United States': 2}}]\n"
     ]
    }
   ],
   "source": [
    "# Task 5: Membuat fungsi yang mengembalikan perusahaan dengan jumlah karyawan berdasarkan kebangsaan\n",
    "def task_5(employees, companies):\n",
    "    result = []\n",
    "    for company in companies:\n",
    "        employee_nationality = {}\n",
    "        for employee in employees:\n",
    "            if employee['company'] == company['name']:\n",
    "                nationality = employee['nationality']\n",
    "                # Hitung jumlah karyawan berdasarkan kebangsaan\n",
    "                if nationality in employee_nationality:\n",
    "                    employee_nationality[nationality] += 1\n",
    "                else:\n",
    "                    employee_nationality[nationality] = 1\n",
    "        result.append({\n",
    "            \"company\": company['name'],\n",
    "            \"employee_nationality\": employee_nationality\n",
    "        })\n",
    "    return result\n",
    "\n",
    "print(task_5(employee_detail_list, company_detail_list))"
   ]
  }
 ],
 "metadata": {
  "kernelspec": {
   "display_name": "Python 3 (ipykernel)",
   "language": "python",
   "name": "python3"
  },
  "language_info": {
   "codemirror_mode": {
    "name": "ipython",
    "version": 3
   },
   "file_extension": ".py",
   "mimetype": "text/x-python",
   "name": "python",
   "nbconvert_exporter": "python",
   "pygments_lexer": "ipython3",
   "version": "3.11.9"
  }
 },
 "nbformat": 4,
 "nbformat_minor": 5
}
